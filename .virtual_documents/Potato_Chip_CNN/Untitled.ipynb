from matplotlib.image import imread
import numpy as np
import matplotlib.pyplot as plt
import pandas as pd
import colorsys
import cv2


input_image = imread("C:/Users/divya/Desktop/Machine_Learning_Sebestian/Potato_Chip_CNN/Pepsico/Train/Defective/IMG_20210319_013754.jpg")


input_image_normalized = input_image/255


R,G,B = input_image_normalized[:,:,0],input_image_normalized[:,:,1],input_image_normalized[:,:,2]


H, S, V = np.vectorize(lambda r, g, b: colorsys.rgb_to_hsv(r, g, b))(R,G,B)


H_normalized = np.uint8((255*H))


S_normalized = np.uint8((255*S))


V_normalized = np.uint8((255*V))


fig = plt.figure(1)
ax1,ax2 = fig.add_subplot(121),fig.add_subplot(122)
ax1.imshow(input_image)
ax2.imshow(V_normalized)


# Convert to LAB color space
lab_image = cv2.cvtColor(input_image, cv2.COLOR_BGR2LAB)

# Threshold the L channel to detect darker areas
l_channel = lab_image[:, :, 0]
_, shadow_mask = cv2.threshold(l_channel, 190, 255, cv2.THRESH_BINARY_INV)  # Shadows have low L values



fig = plt.figure(1)
ax1= fig.add_subplot(121)
ax1.imshow(shadow_mask,cmap="gray")
# ax2.imshow(_)


kernel = np.ones((50,50), np.uint8)  # 5x5 kernel for closing
closed = cv2.morphologyEx(shadow_mask, cv2.MORPH_CLOSE, kernel)


fig = plt.figure()
ax1 = fig.add_subplot(2, 2, 1)
ax1.imshow(closed,cmap="gray")


np.sum(shadow_mask==255)


import cv2
import numpy as np
import matplotlib.pyplot as plt

# Convert the image from BGR (OpenCV default) to RGB for matplotlib
input_image_rgb = cv2.cvtColor(input_image, cv2.COLOR_BGR2RGB)

# Assume binary_cleaned is the thresholded imag"e after processing (e.g., binary image showing defect areas)
# binary_cleaned = cv2.threshold(...)

# Create a mask from the thresholded image (binary_cleaned)
mask = closed.astype(np.uint8)  # Convert to uint8 for masking

# Create an image that will only highlight the defect areas (green)
highlighted_image = input_image.copy()

# Highlight defect areas in green (we keep the background as it is)
highlighted_image[mask == 255] = (0,0,255)  # Highlight defects in green

# Show the final image using matplotlib
plt.figure(figsize=(10, 8))
plt.imshow(cv2.cvtColor(highlighted_image, cv2.COLOR_BGR2RGB))  # Convert back to RGB for plotting
plt.axis('off')  # Hide axis
plt.show()



# Convert to LAB color space
lab_image = cv2.cvtColor(input_image, cv2.COLOR_BGR2LAB)

# Threshold the L channel to detect darker areas
l_channel = lab_image[:, :, 0]
_, shadow_mask = cv2.threshold(l_channel, 100, 255, cv2.THRESH_BINARY_INV)  # Shadows have low L values


fig = plt.figure(1)
ax1,ax2= fig.add_subplot(121),fig.add_subplot(122)
ax1.imshow(shadow_mask)
ax2.imshow(input_image)


kernel = np.ones((5,5), np.uint8)  # 5x5 kernel for closing
closed = cv2.morphologyEx(shadow_mask, cv2.MORPH_CLOSE, kernel)


fig = plt.figure()
ax1 = fig.add_subplot(2, 2, 1)
ax1.imshow(closed)


import cv2
import numpy as np
import matplotlib.pyplot as plt

# Convert the image from BGR (OpenCV default) to RGB for matplotlib
input_image_rgb = cv2.cvtColor(input_image, cv2.COLOR_BGR2RGB)
highlighted_image = input_image.copy()
highlighted_image[mask == 255] = (0,0,255) 

# Show the final image using matplotlib
plt.figure(figsize=(10, 8))
plt.imshow(cv2.cvtColor(highlighted_image, cv2.COLOR_BGR2RGB))  # Convert back to RGB for plotting
plt.axis('off')  # Hide axis
plt.show()



np.sum(shadow_mask==255)


195343/1011473






