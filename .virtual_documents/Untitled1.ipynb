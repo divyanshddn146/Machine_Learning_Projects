





import pandas as pd
import numpy as np
import matplotlib.pyplot as plt
from sklearn.preprocessing import MinMaxScaler
import seaborn as sns
from sklearn.cluster import KMeans


df= pd.read_csv("ulabox_orders.csv")


df


def assign_time_slot(hour):
    if 0 <= hour < 6:
        return "late night"
    elif 6 <= hour < 12:
        return "morning"
    elif 12 <= hour < 18:
        return "afternoon"
    elif 18 <= hour < 24:
        return "evening"
    else:
        return "unknown"  # In case of invalid values

df['time_slot'] = df['hour'].apply(assign_time_slot)



df['is_weekend'] = df['weekday'].apply(lambda x: 1 if x >= 5 else 0)





hourly_orders = df.groupby('hour').size().reset_index(name='order_count')
hourly_orders.head()


def map_to_time_category(hour):
    if 6 <= hour < 12:
        return 'Morning'
    elif 12 <= hour < 18:
        return 'Afternoon'
    elif 18 <= hour < 24:
        return 'Evening'
    else:
        return 'Late Night'

hourly_orders['time_category'] = hourly_orders['hour'].apply(map_to_time_category)


time_category_orders = hourly_orders.groupby('time_category')['order_count'].sum().reset_index()

time_category_orders['time_category'] = pd.Categorical(
    time_category_orders['time_category'],
    categories=['Morning', 'Afternoon', 'Evening', 'Late Night'], 
    ordered=True
)


hourly_orders.head()


sns.set_theme(style="darkgrid")

x = hourly_orders.iloc[:, 0]  # Hour
y = hourly_orders.iloc[:, 1]  # Order Count

marker_indices_1 = [4] 
marker_indices_2 = [22]

sns.lineplot(x=x, y=y, color='deepskyblue', linewidth=3,zorder=1)

plt.scatter(x[marker_indices_1], y[marker_indices_1], color='red', s=100, label="Marker at lowest Orders",zorder=2)
plt.scatter(x[marker_indices_2], y[marker_indices_2], color='green', s=100, label="Marker at Highest Orders",zorder=3)

plt.xlabel("Hour")
plt.ylabel("Order Count")
plt.legend()
plt.figure(figsize=(10, 8))
plt.show()






import seaborn as sns
import matplotlib.pyplot as plt

# Step 1: Aggregate order counts by weekday and hour
weekday_hour_orders = df.groupby(['weekday', 'hour']).size().reset_index(name='order_count')

# Step 2: Create a pivot table for heatmap plotting
heatmap_data = weekday_hour_orders.pivot(index='hour', columns='weekday', values='order_count')

# Step 3: Plot the heatmap
plt.figure(figsize=(12, 8))
sns.heatmap(heatmap_data, cmap='crest', annot=True, fmt=".0f", cbar=True)
plt.title('Order Count by Weekday and Hour', fontsize=16)
plt.xlabel('Weekday (1=Monday, 7=Sunday)', fontsize=12)
plt.ylabel('Hour (0-23)', fontsize=12)
plt.show()


import pandas as pd

# Step 1: Aggregate order counts by weekday and hour
weekday_hour_orders = df.groupby(['weekday', 'hour']).size().reset_index(name='order_count')

# Step 2: Pivot the data for stacked bar plot
stacked_data = weekday_hour_orders.pivot(index='hour', columns='weekday', values='order_count')

# Step 3: Plot the stacked bar plot
stacked_data.T.plot(kind='bar', stacked=True, figsize=(12, 8), colormap='viridis')

plt.title('Order Distribution by Weekday and Hour', fontsize=16)
plt.xlabel('Weekday (0=Monday, 6=Sunday)', fontsize=12)
plt.ylabel('Order Count', fontsize=12)
plt.legend(title='Hour (0-23)', bbox_to_anchor=(1.05, 1), loc='upper left')
plt.tight_layout()
plt.show()






import matplotlib.pyplot as plt

weekend_data = df.groupby('is_weekend').size()

labels = ['Weekday', 'Weekend']
values = weekend_data.values

# Step 3: Plot the pie chart
plt.figure(figsize=(8, 6))
plt.pie(values, labels=labels, autopct='%1.1f%%', startangle=90, colors=['skyblue', 'lightcoral'],shadow={'ox': -0.03, 'edgecolor': 'none', 'shade': 0.9},explode=(0,0.1))
plt.title('Distribution of Weekend vs. Weekday Orders', fontsize=16)
plt.show()





import seaborn as sns

time_slot_data = df.groupby('time_slot').size().reset_index(name='order_count')
time_slot_data['time_slot'] = pd.Categorical(
    time_slot_data['time_slot'], 
    categories = ['morning', 'afternoon', 'evening', 'late night'], 
    ordered = True
)
plt.figure(figsize=(8, 6))
sns.barplot(x='time_slot', y='order_count', data=time_slot_data,palette=["#FE5621","#FF9800","#FFC107","#FEEA3B"],hue="time_slot",alpha=1,linestyle = "-", linewidth = 2,
           edgecolor = "k")
plt.scatter(2,12500 , color='red', s=200, label="Marker at lowest Orders",marker="*")
plt.xlabel('Time Slot', fontsize=14)
plt.ylabel('Order Count', fontsize=14)
plt.title('Time Slot Preferences', fontsize=16)
plt.show()



sns.set_theme(style="darkgrid")
sns.lineplot(x=time_category_orders.iloc[:,0],y=time_category_orders.iloc[:,1],color='magenta', linewidth=3,marker='*', markerfacecolor='limegreen', markersize=20)
plt.xlabel("Hour")
plt.ylabel("Order Count")
plt.figure(figsize=(10,8))
plt.show()


import seaborn as sns
import matplotlib.pyplot as plt

heatmap_data = df.groupby(['weekday', 'time_slot']).size().reset_index(name='order_count')
heatmap_data['time_slot'] = pd.Categorical(
    heatmap_data['time_slot'], 
    categories = ['morning', 'afternoon', 'evening', 'late night'], 
    ordered = True
)

heatmap_data_pivot = heatmap_data.pivot(index='time_slot', columns='weekday', values='order_count')

heatmap_data_pivot






# Set the figure size
plt.figure(figsize=(12, 8))

# Plot the heatmap
sns.heatmap(
    heatmap_data_pivot, 
    annot=True, 
    cmap="YlGnBu", 
    fmt="d", 
    linewidths=0.5, 
    cbar_kws={'label': 'Number of Orders'}
)


# Add labels and title
plt.title('Orders by Time Slot and Weekday')
plt.xlabel('Weekday')
plt.ylabel('Time Slot')
plt.xticks(ticks=range(7), labels=['Mon', 'Tue', 'Wed', 'Thu', 'Fri', 'Sat', 'Sun'])
plt.yticks(rotation=0)

# Show the plot
plt.show()






from sklearn.preprocessing import StandardScaler, OneHotEncoder
from sklearn.compose import ColumnTransformer
from sklearn.pipeline import Pipeline
import pandas as pd

features = ['hour', 'weekday', 'is_weekend', 'time_slot']

data = df[features]

preprocessor = ColumnTransformer(
    transformers=[
        ('num', StandardScaler(), ['hour', 'weekday']),  # Scale numerical features
        ('cat', OneHotEncoder(), ['time_slot'])         # One-hot encode categorical
    ],
    remainder='passthrough'  # Keep 'is_weekend' as is
)

X = preprocessor.fit_transform(data)



from sklearn.cluster import KMeans
from sklearn.metrics import silhouette_score
import matplotlib.pyplot as plt

# Determine the optimal number of clusters using the Elbow Method
sse = []  # Sum of Squared Errors
k_values = range(2, 10)  # Test for 2 to 10 clusters

for k in k_values:
    kmeans = KMeans(n_clusters=k, random_state=42,n_init="auto")
    kmeans.fit(X)
    sse.append(kmeans.inertia_)

plt.figure(figsize=(8, 5))
plt.plot(k_values, sse, marker='o')
plt.xlabel('Number of Clusters (k)')
plt.ylabel('SSE')
plt.title('Elbow Method to Find Optimal k')
plt.show()




# Choose the optimal k based on the Elbow Method or try silhouette analysis
optimal_k = 6  # Adjust based on the graph
kmeans = KMeans(n_clusters=optimal_k, random_state=42,n_init="auto")
clusters = kmeans.fit_predict(X)

# Add cluster labels to the original data
df['time_cluster'] = clusters


import seaborn as sns

plt.figure(figsize=(8, 6))
sns.scatterplot(
    x=df['hour'], y=df['weekday'], 
    hue=df['time_cluster'], palette='Set2', s=100
)
plt.title('Customer Clusters by Hour and Weekday')
plt.xlabel('Hour')
plt.ylabel('Weekday')
plt.legend(title='Cluster')
plt.show()



# 0.7 and 1000
from sklearn.cluster import DBSCAN
dbscan = DBSCAN(eps=0.7, min_samples=3000)
clusters = dbscan.fit_predict(X)

# Add cluster labels to the original data
df['time_cluster'] = clusters


import seaborn as sns

plt.figure(figsize=(8, 6))
sns.scatterplot(
    x=df['hour'], y=df['weekday'], 
    hue=df['time_cluster'], palette='Set2', s=100
)
plt.title('Customer Clusters by Hour and Weekday')
plt.xlabel('Hour')
plt.ylabel('Weekday')
plt.legend(title='Cluster')
plt.show()






corr = df[['total_items', 'discount%', 'Food%', 'Fresh%', 'Drinks%']].corr()
sns.heatmap(corr, annot=True, cmap='coolwarm')





import pandas as pd
import numpy as np
import matplotlib.pyplot as plt

# Calculating  the mean for the categories
categories = ['Food%', 'Fresh%', 'Drinks%', 'Home%', 'Beauty%', 'Health%', 'Baby%', 'Pets%']
aggregated_values = df[categories].mean()

# Prepare data for the radar chart
values = aggregated_values.tolist()
values += values[:1]  # to close the circle
angles = np.linspace(0, 2 * np.pi, len(categories), endpoint=False).tolist()
angles += angles[:1]  # to close the circle

# Create the radar chart
fig, ax = plt.subplots(figsize=(6, 6), dpi=100, subplot_kw=dict(polar=True))
ax.fill(angles, values, color='blue', alpha=0.25)
ax.plot(angles, values, color='blue', linewidth=2)
ax.set_yticklabels([])
ax.set_xticks(angles[:-1])
ax.set_xticklabels(categories)
plt.title('Overall Feature Contribution')
plt.show()



aggregated_values = df[categories].mean()
aggregated_values






