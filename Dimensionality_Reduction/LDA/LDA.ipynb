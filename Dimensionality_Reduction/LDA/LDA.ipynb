{
 "cells": [
  {
   "cell_type": "markdown",
   "id": "8ccde6c1-ba9c-498b-8591-4cdbca7d73b3",
   "metadata": {},
   "source": [
    "### Importing Libraries"
   ]
  },
  {
   "cell_type": "code",
   "execution_count": 201,
   "id": "606fdc4f-64a7-4051-aa13-feff9b7dc7d6",
   "metadata": {},
   "outputs": [],
   "source": [
    "import pandas as pd\n",
    "import numpy as np\n",
    "from matplotlib.colors import ListedColormap\n",
    "from sklearn.model_selection import train_test_split\n",
    "from sklearn.preprocessing import StandardScaler\n",
    "import matplotlib.pyplot as plt\n",
    "from sklearn.linear_model import LogisticRegression\n",
    "from sklearn.discriminant_analysis import LinearDiscriminantAnalysis as LDA"
   ]
  },
  {
   "cell_type": "markdown",
   "id": "62250c20-eb42-4ddf-bfaf-7c4fbe758448",
   "metadata": {},
   "source": [
    "### Reading Data through Pandas"
   ]
  },
  {
   "cell_type": "code",
   "execution_count": 6,
   "id": "23e2a874-ba70-409b-8fc5-cf59aa72a019",
   "metadata": {},
   "outputs": [],
   "source": [
    "df_wine = pd.read_csv('https://archive.ics.uci.edu/ml/''machine-learning-databases/wine/wine.data',header=None)\n",
    "df_wine.columns = [\n",
    "    'Class label', 'Alcohol', 'Malic acid', 'Ash', 'Alcalinity of ash', 'Magnesium',\n",
    "    'Total phenols', 'Flavanoids', 'Nonflavanoid phenols', 'Proanthocyanins',\n",
    "    'Color intensity', 'Hue', 'OD280/OD315 of diluted wines', 'Proline'\n",
    "]"
   ]
  },
  {
   "cell_type": "code",
   "execution_count": 8,
   "id": "57cc5cdf-a696-4c42-9eb0-763cdf5850e6",
   "metadata": {},
   "outputs": [
    {
     "data": {
      "text/html": [
       "<div>\n",
       "<style scoped>\n",
       "    .dataframe tbody tr th:only-of-type {\n",
       "        vertical-align: middle;\n",
       "    }\n",
       "\n",
       "    .dataframe tbody tr th {\n",
       "        vertical-align: top;\n",
       "    }\n",
       "\n",
       "    .dataframe thead th {\n",
       "        text-align: right;\n",
       "    }\n",
       "</style>\n",
       "<table border=\"1\" class=\"dataframe\">\n",
       "  <thead>\n",
       "    <tr style=\"text-align: right;\">\n",
       "      <th></th>\n",
       "      <th>Class label</th>\n",
       "      <th>Alcohol</th>\n",
       "      <th>Malic acid</th>\n",
       "      <th>Ash</th>\n",
       "      <th>Alcalinity of ash</th>\n",
       "      <th>Magnesium</th>\n",
       "      <th>Total phenols</th>\n",
       "      <th>Flavanoids</th>\n",
       "      <th>Nonflavanoid phenols</th>\n",
       "      <th>Proanthocyanins</th>\n",
       "      <th>Color intensity</th>\n",
       "      <th>Hue</th>\n",
       "      <th>OD280/OD315 of diluted wines</th>\n",
       "      <th>Proline</th>\n",
       "    </tr>\n",
       "  </thead>\n",
       "  <tbody>\n",
       "    <tr>\n",
       "      <th>0</th>\n",
       "      <td>1</td>\n",
       "      <td>14.23</td>\n",
       "      <td>1.71</td>\n",
       "      <td>2.43</td>\n",
       "      <td>15.6</td>\n",
       "      <td>127</td>\n",
       "      <td>2.80</td>\n",
       "      <td>3.06</td>\n",
       "      <td>0.28</td>\n",
       "      <td>2.29</td>\n",
       "      <td>5.64</td>\n",
       "      <td>1.04</td>\n",
       "      <td>3.92</td>\n",
       "      <td>1065</td>\n",
       "    </tr>\n",
       "    <tr>\n",
       "      <th>1</th>\n",
       "      <td>1</td>\n",
       "      <td>13.20</td>\n",
       "      <td>1.78</td>\n",
       "      <td>2.14</td>\n",
       "      <td>11.2</td>\n",
       "      <td>100</td>\n",
       "      <td>2.65</td>\n",
       "      <td>2.76</td>\n",
       "      <td>0.26</td>\n",
       "      <td>1.28</td>\n",
       "      <td>4.38</td>\n",
       "      <td>1.05</td>\n",
       "      <td>3.40</td>\n",
       "      <td>1050</td>\n",
       "    </tr>\n",
       "    <tr>\n",
       "      <th>2</th>\n",
       "      <td>1</td>\n",
       "      <td>13.16</td>\n",
       "      <td>2.36</td>\n",
       "      <td>2.67</td>\n",
       "      <td>18.6</td>\n",
       "      <td>101</td>\n",
       "      <td>2.80</td>\n",
       "      <td>3.24</td>\n",
       "      <td>0.30</td>\n",
       "      <td>2.81</td>\n",
       "      <td>5.68</td>\n",
       "      <td>1.03</td>\n",
       "      <td>3.17</td>\n",
       "      <td>1185</td>\n",
       "    </tr>\n",
       "    <tr>\n",
       "      <th>3</th>\n",
       "      <td>1</td>\n",
       "      <td>14.37</td>\n",
       "      <td>1.95</td>\n",
       "      <td>2.50</td>\n",
       "      <td>16.8</td>\n",
       "      <td>113</td>\n",
       "      <td>3.85</td>\n",
       "      <td>3.49</td>\n",
       "      <td>0.24</td>\n",
       "      <td>2.18</td>\n",
       "      <td>7.80</td>\n",
       "      <td>0.86</td>\n",
       "      <td>3.45</td>\n",
       "      <td>1480</td>\n",
       "    </tr>\n",
       "    <tr>\n",
       "      <th>4</th>\n",
       "      <td>1</td>\n",
       "      <td>13.24</td>\n",
       "      <td>2.59</td>\n",
       "      <td>2.87</td>\n",
       "      <td>21.0</td>\n",
       "      <td>118</td>\n",
       "      <td>2.80</td>\n",
       "      <td>2.69</td>\n",
       "      <td>0.39</td>\n",
       "      <td>1.82</td>\n",
       "      <td>4.32</td>\n",
       "      <td>1.04</td>\n",
       "      <td>2.93</td>\n",
       "      <td>735</td>\n",
       "    </tr>\n",
       "  </tbody>\n",
       "</table>\n",
       "</div>"
      ],
      "text/plain": [
       "   Class label  Alcohol  Malic acid   Ash  Alcalinity of ash  Magnesium  \\\n",
       "0            1    14.23        1.71  2.43               15.6        127   \n",
       "1            1    13.20        1.78  2.14               11.2        100   \n",
       "2            1    13.16        2.36  2.67               18.6        101   \n",
       "3            1    14.37        1.95  2.50               16.8        113   \n",
       "4            1    13.24        2.59  2.87               21.0        118   \n",
       "\n",
       "   Total phenols  Flavanoids  Nonflavanoid phenols  Proanthocyanins  \\\n",
       "0           2.80        3.06                  0.28             2.29   \n",
       "1           2.65        2.76                  0.26             1.28   \n",
       "2           2.80        3.24                  0.30             2.81   \n",
       "3           3.85        3.49                  0.24             2.18   \n",
       "4           2.80        2.69                  0.39             1.82   \n",
       "\n",
       "   Color intensity   Hue  OD280/OD315 of diluted wines  Proline  \n",
       "0             5.64  1.04                          3.92     1065  \n",
       "1             4.38  1.05                          3.40     1050  \n",
       "2             5.68  1.03                          3.17     1185  \n",
       "3             7.80  0.86                          3.45     1480  \n",
       "4             4.32  1.04                          2.93      735  "
      ]
     },
     "execution_count": 8,
     "metadata": {},
     "output_type": "execute_result"
    }
   ],
   "source": [
    "df_wine.head()"
   ]
  },
  {
   "cell_type": "markdown",
   "id": "6b100f62-d6ea-4e1e-8b48-a8009f387ab6",
   "metadata": {},
   "source": [
    "### Splitting Dataset into Training and Test Data"
   ]
  },
  {
   "cell_type": "code",
   "execution_count": 11,
   "id": "153cc964-92ba-4c76-b96d-79d1aef44415",
   "metadata": {},
   "outputs": [],
   "source": [
    "X,y = df_wine.iloc[:,1:],df_wine.iloc[:,0]\n",
    "X_train,X_test,y_train,y_test = train_test_split(X,y,test_size=0.3,stratify=y,random_state=0)"
   ]
  },
  {
   "cell_type": "markdown",
   "id": "80464298-480e-4ed9-b4c9-06d3ef08644d",
   "metadata": {},
   "source": [
    "### Standardizing Data before doing LDA"
   ]
  },
  {
   "cell_type": "code",
   "execution_count": 54,
   "id": "1c572001-81fa-4cfe-8e59-25e7611fc7e5",
   "metadata": {},
   "outputs": [
    {
     "data": {
      "text/plain": [
       "array([[ 0.71225893,  2.22048673, -0.13025864, ..., -0.20017028,\n",
       "        -0.82164144, -0.62946362],\n",
       "       [ 0.88229214, -0.70457155,  1.17533605, ...,  1.33982592,\n",
       "         0.54931269,  1.47568796],\n",
       "       [ 0.84585645, -0.73022996,  1.17533605, ...,  1.06806189,\n",
       "         0.1308109 ,  1.62934866],\n",
       "       ...,\n",
       "       [ 1.02803489,  2.29746195, -0.5778911 , ..., -1.69487249,\n",
       "        -1.86068037, -1.04434751],\n",
       "       [-1.30384913, -1.08089484, -0.31677217, ...,  0.16218176,\n",
       "         0.73691694,  0.40313628],\n",
       "       [-0.40510216,  1.29678411,  0.05625489, ...,  1.06806189,\n",
       "         0.73691694, -0.89683324]])"
      ]
     },
     "execution_count": 54,
     "metadata": {},
     "output_type": "execute_result"
    }
   ],
   "source": [
    "sc = StandardScaler()\n",
    "X_train_std = sc.fit_transform(X_train)\n",
    "X_test_std = sc.transform(X_test)\n",
    "X_train_std"
   ]
  },
  {
   "cell_type": "markdown",
   "id": "f5bc1bac-9c77-4bd8-93d1-ec97ee54484a",
   "metadata": {},
   "source": [
    "### Calculating Mean Vectors"
   ]
  },
  {
   "cell_type": "code",
   "execution_count": 126,
   "id": "9f74ba5d-e7fc-4550-bb36-0361522e516f",
   "metadata": {},
   "outputs": [
    {
     "name": "stdout",
     "output_type": "stream",
     "text": [
      "[array([ 0.9065826 , -0.34973457,  0.32010329, -0.71891449,  0.50558678,\n",
      "        0.88069702,  0.95894709, -0.55161049,  0.54159322,  0.23383109,\n",
      "        0.58971299,  0.65631399,  1.20749382]), array([-0.87487963, -0.28480003, -0.37347228,  0.31571225, -0.38480347,\n",
      "       -0.04332505,  0.06345321, -0.09460613,  0.07034749, -0.82860474,\n",
      "        0.31436962,  0.36084258, -0.72528643]), array([ 0.199215  ,  0.8660339 ,  0.168163  ,  0.41484489, -0.04511771,\n",
      "       -1.02855532, -1.28756034,  0.82867687, -0.77947565,  0.96494432,\n",
      "       -1.20899133, -1.36215159, -0.40130076])]\n"
     ]
    }
   ],
   "source": [
    "mean_vecs = []\n",
    "for label in range(1,4):\n",
    "    mean_vecs.append(np.mean(X_train_std[y_train==label],axis=0))\n",
    "print(mean_vecs)"
   ]
  },
  {
   "cell_type": "markdown",
   "id": "b37b4b64-5ece-4fb5-968d-8bbbef672e9b",
   "metadata": {},
   "source": [
    "### Calculating number of training data accroding to each label"
   ]
  },
  {
   "cell_type": "code",
   "execution_count": 102,
   "id": "e50882c3-14c2-41e2-9353-d372a71b8edc",
   "metadata": {},
   "outputs": [
    {
     "data": {
      "text/plain": [
       "array([ 0, 41, 50, 33], dtype=int64)"
      ]
     },
     "execution_count": 102,
     "metadata": {},
     "output_type": "execute_result"
    }
   ],
   "source": [
    "N = np.bincount(y_train)\n",
    "N"
   ]
  },
  {
   "cell_type": "markdown",
   "id": "218cdc6d-9a63-4f92-a272-18c89c91cd45",
   "metadata": {},
   "source": [
    "### Computing Sw using manual method"
   ]
  },
  {
   "cell_type": "code",
   "execution_count": 238,
   "id": "c3a275a5-1be7-400f-afb8-7a4c59c31c80",
   "metadata": {},
   "outputs": [],
   "source": [
    "d = 13 # number of features\n",
    "sw = np.zeros((d,d))\n",
    "for label, mv in zip(range(1,4),mean_vecs):\n",
    "    class_scatter = np.zeros((d,d))\n",
    "    for row in X_train_std[y_train==label]:\n",
    "        row,mv = row.reshape(-1,1) , mv.reshape(-1,1)\n",
    "        class_scatter += ((row-mv).dot((row-mv).T))/(N[label]-1)\n",
    "    sw += class_scatter"
   ]
  },
  {
   "cell_type": "markdown",
   "id": "87527320-28a2-481d-8c8c-5b203749064b",
   "metadata": {},
   "source": [
    "### Computing Sw using Predefined Function (np.cov)"
   ]
  },
  {
   "cell_type": "code",
   "execution_count": 114,
   "id": "0ac50428-c0d1-4971-8033-2a228936e8da",
   "metadata": {},
   "outputs": [],
   "source": [
    "# Computing Scatter matrix is same as computing the covarince matrix\n",
    "d = 13 # number of features\n",
    "sw = np.zeros((d,d))\n",
    "for label, mv in zip(range(1,4),mean_vecs):\n",
    "    class_scatter = np.cov(X_train_std[y_train==label].T)\n",
    "    sw += class_scatter"
   ]
  },
  {
   "cell_type": "markdown",
   "id": "759843f1-2f50-4c71-8912-a09a5362902b",
   "metadata": {},
   "source": [
    "### Calculating Sb using manual method"
   ]
  },
  {
   "cell_type": "code",
   "execution_count": 130,
   "id": "30ed82d6-c1df-4345-a6a4-d9e74d6b117f",
   "metadata": {},
   "outputs": [],
   "source": [
    "overall_mean = np.mean(X_train_std,axis=0)\n",
    "overall_mean = overall_mean.reshape(-1,1)\n",
    "d =13\n",
    "sb = np.zeros((d,d))\n",
    "for i,mean_vec in enumerate(mean_vecs):\n",
    "    n = N[i+1]\n",
    "    mean_vec = mean_vec.reshape(-1,1)\n",
    "    sb += n*(mean_vec-overall_mean).dot((mean_vec-overall_mean).T)"
   ]
  },
  {
   "cell_type": "markdown",
   "id": "6d33f317-6608-4ea6-a6c9-cf84b8f744b9",
   "metadata": {},
   "source": [
    "### Calculating Eigen Values and Eigen Vectors"
   ]
  },
  {
   "cell_type": "code",
   "execution_count": 146,
   "id": "dac889f3-2e2c-444e-a5e9-20657906bde6",
   "metadata": {},
   "outputs": [
    {
     "data": {
      "text/plain": [
       "array([-2.84217094e-14+0.00000000e+00j,  1.72761522e+02+0.00000000e+00j,\n",
       "        3.49617809e+02+0.00000000e+00j,  5.01051623e-14+0.00000000e+00j,\n",
       "       -3.61871664e-14+0.00000000e+00j,  9.14627240e-15+1.63405503e-14j,\n",
       "        9.14627240e-15-1.63405503e-14j, -8.42267633e-15+5.34968193e-15j,\n",
       "       -8.42267633e-15-5.34968193e-15j,  2.97846455e-15+5.85299180e-15j,\n",
       "        2.97846455e-15-5.85299180e-15j, -3.76857898e-16+9.26900222e-16j,\n",
       "       -3.76857898e-16-9.26900222e-16j])"
      ]
     },
     "execution_count": 146,
     "metadata": {},
     "output_type": "execute_result"
    }
   ],
   "source": [
    "eigen_values,eigen_vecs = np.linalg.eig(np.linalg.inv(sw).dot(sb))\n",
    "eigen_values"
   ]
  },
  {
   "cell_type": "markdown",
   "id": "79014bcb-aacb-4680-b79d-02774db287e4",
   "metadata": {},
   "source": [
    "### Sorting Eigen vectors and Eigen Values"
   ]
  },
  {
   "cell_type": "code",
   "execution_count": 154,
   "id": "52d60b69-3c7c-41a8-bf3d-847ab9c7ec9b",
   "metadata": {},
   "outputs": [],
   "source": [
    "indices = np.argsort(eigen_values)[::-1]\n",
    "eigen_values_sorted = eigen_values[indices]\n",
    "eigen_vecs_sorted = eigen_vecs[:, indices]"
   ]
  },
  {
   "cell_type": "code",
   "execution_count": 158,
   "id": "4319beae-ed53-4d02-872d-1475f65b8a53",
   "metadata": {},
   "outputs": [
    {
     "data": {
      "text/plain": [
       "array([ 3.49617809e+02+0.00000000e+00j,  1.72761522e+02+0.00000000e+00j,\n",
       "        5.01051623e-14+0.00000000e+00j,  9.14627240e-15+1.63405503e-14j,\n",
       "        9.14627240e-15-1.63405503e-14j,  2.97846455e-15+5.85299180e-15j,\n",
       "        2.97846455e-15-5.85299180e-15j, -3.76857898e-16+9.26900222e-16j,\n",
       "       -3.76857898e-16-9.26900222e-16j, -8.42267633e-15+5.34968193e-15j,\n",
       "       -8.42267633e-15-5.34968193e-15j, -2.84217094e-14+0.00000000e+00j,\n",
       "       -3.61871664e-14+0.00000000e+00j])"
      ]
     },
     "execution_count": 158,
     "metadata": {},
     "output_type": "execute_result"
    }
   ],
   "source": [
    "eigen_values_sorted"
   ]
  },
  {
   "cell_type": "markdown",
   "id": "5ff534d0-b62e-400e-a51c-147a732c98f1",
   "metadata": {},
   "source": [
    "### Calculating Cummulative Variance captured by Eigen Vectors "
   ]
  },
  {
   "cell_type": "code",
   "execution_count": 251,
   "id": "8e400e3b-f1b9-4df5-bc13-e6654d9f809a",
   "metadata": {},
   "outputs": [
    {
     "data": {
      "text/plain": [
       "array([0.66927956+1.51604911e-33j, 1.        +2.26519559e-33j,\n",
       "       1.        +2.26519559e-33j, 1.        +3.12810046e-17j,\n",
       "       1.        +0.00000000e+00j, 1.        +1.12044858e-17j,\n",
       "       1.        +0.00000000e+00j, 1.        +1.77438150e-18j,\n",
       "       1.        +0.00000000e+00j, 1.        +1.02409908e-17j,\n",
       "       1.        +0.00000000e+00j, 1.        -1.23245173e-49j,\n",
       "       1.        -2.80163728e-49j])"
      ]
     },
     "execution_count": 251,
     "metadata": {},
     "output_type": "execute_result"
    }
   ],
   "source": [
    "total_sum = np.sum(eigen_values)\n",
    "var_exp = [i/total_sum for i in sorted(eigen_values,reverse=True)]\n",
    "cum_var_exp = np.cumsum(var_exp)\n",
    "cum_var_exp"
   ]
  },
  {
   "cell_type": "markdown",
   "id": "1d1a6e77-f300-41b7-907e-7f5a42efed9d",
   "metadata": {},
   "source": [
    "### Plotting Bar and Step Chart to visualize Indiviual as well as Cumulative Variance"
   ]
  },
  {
   "cell_type": "code",
   "execution_count": 164,
   "id": "5ecdf922-7824-4287-a91e-3df1a5d69bd3",
   "metadata": {},
   "outputs": [
    {
     "name": "stderr",
     "output_type": "stream",
     "text": [
      "C:\\Users\\divya\\anaconda3\\Lib\\site-packages\\matplotlib\\cbook.py:1762: ComplexWarning: Casting complex values to real discards the imaginary part\n",
      "  return math.isfinite(val)\n",
      "C:\\Users\\divya\\anaconda3\\Lib\\site-packages\\matplotlib\\transforms.py:767: ComplexWarning: Casting complex values to real discards the imaginary part\n",
      "  points = np.asarray(points, float)\n",
      "C:\\Users\\divya\\anaconda3\\Lib\\site-packages\\matplotlib\\cbook.py:1398: ComplexWarning: Casting complex values to real discards the imaginary part\n",
      "  return np.asarray(x, float)\n"
     ]
    },
    {
     "data": {
      "image/png": "[encoded data removed]",
      "text/plain": [
       "<Figure size 640x480 with 1 Axes>"
      ]
     },
     "metadata": {},
     "output_type": "display_data"
    }
   ],
   "source": [
    "plt.bar(range(1,14),var_exp,align=\"center\",label=\"Individual Explained Variance\")\n",
    "plt.step(range(1,14),cum_var_exp,where=\"mid\",label = \"Cumulative Explained Variance\")\n",
    "plt.ylabel(\"Explained Variance Ratio\")\n",
    "plt.xlabel(\"Principal Component Index\")\n",
    "plt.legend(loc = \"best\")\n",
    "plt.tight_layout()\n",
    "plt.show()"
   ]
  },
  {
   "cell_type": "markdown",
   "id": "9180d70a-00b5-4283-bd17-867cc1e6a84b",
   "metadata": {},
   "source": [
    "### Constructing Projection Matrix from top 2 Eigen Vectors"
   ]
  },
  {
   "cell_type": "code",
   "execution_count": 183,
   "id": "2cbefe9a-eb18-4b82-bbb9-b023dec405f3",
   "metadata": {},
   "outputs": [
    {
     "data": {
      "text/plain": [
       "array([[-0.14808266+0.j, -0.40918668+0.j],\n",
       "       [ 0.09076942+0.j, -0.15765978+0.j],\n",
       "       [-0.01678204+0.j, -0.35371242+0.j],\n",
       "       [ 0.14840098+0.j,  0.32231568+0.j],\n",
       "       [-0.0163456 +0.j, -0.08168973+0.j],\n",
       "       [ 0.19130756+0.j,  0.08419165+0.j],\n",
       "       [-0.73377547+0.j,  0.28234956+0.j],\n",
       "       [-0.07501992+0.j, -0.01015645+0.j],\n",
       "       [ 0.00184929+0.j,  0.09065024+0.j],\n",
       "       [ 0.29402743+0.j, -0.2152308 +0.j],\n",
       "       [-0.03282632+0.j,  0.27470975+0.j],\n",
       "       [-0.35466909+0.j, -0.01243875+0.j],\n",
       "       [-0.39151562+0.j, -0.59578685+0.j]])"
      ]
     },
     "execution_count": 183,
     "metadata": {},
     "output_type": "execute_result"
    }
   ],
   "source": [
    "w = np.hstack((eigen_vecs_sorted[:,0].reshape(-1,1),eigen_vecs_sorted[:,1].reshape(-1,1)))\n",
    "w"
   ]
  },
  {
   "cell_type": "markdown",
   "id": "635561dd-e902-42a4-b052-8debd54ec2b3",
   "metadata": {},
   "source": [
    "### Transforming d-dimension input dataset X using projection matrix W to obtain new 2-dimensional feature subspace"
   ]
  },
  {
   "cell_type": "code",
   "execution_count": 190,
   "id": "9a6dffc5-80da-4acf-b0ad-256985d7dec1",
   "metadata": {},
   "outputs": [
    {
     "data": {
      "text/plain": [
       "(124, 2)"
      ]
     },
     "execution_count": 190,
     "metadata": {},
     "output_type": "execute_result"
    }
   ],
   "source": [
    "X_train_lda = X_train_std.dot(w)\n",
    "X_train_lda.shape"
   ]
  },
  {
   "cell_type": "markdown",
   "id": "77137336-5300-49d5-aeee-f3016eeb7ecf",
   "metadata": {},
   "source": [
    "### Plotting Transformed Datapoints"
   ]
  },
  {
   "cell_type": "code",
   "execution_count": 194,
   "id": "4d1a9681-b768-48b3-9cf9-1fd3b9d76eab",
   "metadata": {
    "scrolled": true
   },
   "outputs": [
    {
     "name": "stderr",
     "output_type": "stream",
     "text": [
      "C:\\Users\\divya\\anaconda3\\Lib\\site-packages\\matplotlib\\cbook.py:1762: ComplexWarning: Casting complex values to real discards the imaginary part\n",
      "  return math.isfinite(val)\n",
      "C:\\Users\\divya\\anaconda3\\Lib\\site-packages\\matplotlib\\collections.py:197: ComplexWarning: Casting complex values to real discards the imaginary part\n",
      "  offsets = np.asanyarray(offsets, float)\n"
     ]
    },
    {
     "data": {
      "image/png": "[encoded data removed]",
      "text/plain": [
       "<Figure size 640x480 with 1 Axes>"
      ]
     },
     "metadata": {},
     "output_type": "display_data"
    }
   ],
   "source": [
    "colors = [\"r\",\"g\",\"b\"]\n",
    "markers = [\"o\",\"^\",\"s\"]\n",
    "for l,c,m in zip(np.unique(y_train),colors,markers):\n",
    "    plt.scatter(X_train_lda[y_train==l,0],X_train_lda[y_train==l,1],c=c,label=f\"Class {l}\",marker=m)\n",
    "plt.xlabel(\"LD 1\")\n",
    "plt.ylabel(\"LD 2\")\n",
    "plt.legend(loc=\"best\")\n",
    "plt.tight_layout()\n",
    "plt.show()"
   ]
  },
  {
   "cell_type": "markdown",
   "id": "1092f05e-27d8-4d5e-b157-2ced33be499f",
   "metadata": {},
   "source": [
    "### Defining Decision Region Function"
   ]
  },
  {
   "cell_type": "code",
   "execution_count": 206,
   "id": "59be96a9-b9eb-4d78-981b-183b796b4609",
   "metadata": {},
   "outputs": [],
   "source": [
    "def plot_decision_regions(X, y, classifier, test_idx=None, resolution=0.02):\n",
    "    markers = ('o', 's', '^', 'v', '<')\n",
    "    colors = ('red', 'blue', 'lightgreen', 'grey', 'cyan')\n",
    "    cmap = ListedColormap(colors[:len(np.unique(y))])\n",
    "\n",
    "    x1_min, x1_max = X[:, 0].min() - 1, X[:, 0].max() + 1\n",
    "    x2_min, x2_max = X[:, 1].min() - 1, X[:, 1].max() + 1\n",
    "    # xx1 contains all x points and xx2 contains all y points\n",
    "    xx1, xx2 = np.meshgrid(np.arange(x1_min, x1_max, resolution),np.arange(x2_min, x2_max, resolution))\n",
    "    \n",
    "    # xx1 and xx2 becomes stacked together to becomes points for classifying and then transposed to make vertical \n",
    "    lab = classifier.predict(np.array([xx1.ravel(), xx2.ravel()]).T)  \n",
    "    # Reshapes the 1D predictions into a 2D array for alignment with the grid\n",
    "    lab = lab.reshape(xx1.shape)\n",
    "    plt.contourf(xx1,xx2,lab,cmap=cmap)\n",
    "    plt.xlim(x1_min,x1_max)\n",
    "    plt.ylim(x2_min,x2_max)\n",
    "\n",
    "    for i,j in enumerate(np.unique(y)):\n",
    "        plt.scatter(x = X[y==j,0],y=X[y==j,1],marker = markers[i],c=colors[i],edgecolor='black',label=f\"Class {j}\",alpha=0.9)\n",
    "    "
   ]
  },
  {
   "cell_type": "markdown",
   "id": "d10a91ee-9a30-4d30-9497-49ed3df042a3",
   "metadata": {},
   "source": [
    "### Training LDA using Sklearn"
   ]
  },
  {
   "cell_type": "code",
   "execution_count": 203,
   "id": "66e30f13-44e5-4f60-b615-9aeb0cfcbc4f",
   "metadata": {},
   "outputs": [],
   "source": [
    "lda = LDA(n_components=2)\n",
    "X_train_lda = lda.fit_transform(X_train_std,y_train)"
   ]
  },
  {
   "cell_type": "markdown",
   "id": "047b6561-0593-413a-aa04-7d49c5283c1a",
   "metadata": {},
   "source": [
    "### Training Logistic Regression Model and Plotting Decision Region for Training Dataset"
   ]
  },
  {
   "cell_type": "code",
   "execution_count": 274,
   "id": "a750e4d8-197e-4e6c-919f-b392025190a0",
   "metadata": {},
   "outputs": [
    {
     "data": {
      "image/png": "[encoded data removed]",
      "text/plain": [
       "<Figure size 640x480 with 1 Axes>"
      ]
     },
     "metadata": {},
     "output_type": "display_data"
    }
   ],
   "source": [
    "lr = LogisticRegression(multi_class=\"ovr\",random_state=0,solver=\"lbfgs\")\n",
    "lr.fit(X_train_lda,y_train)\n",
    "plot_decision_regions(X_train_lda,y_train,classifier=lr)\n",
    "plt.xlabel(\"LD 1\")\n",
    "plt.ylabel(\"LD 2\")\n",
    "plt.legend(loc=\"best\")\n",
    "plt.tight_layout()\n",
    "plt.show()"
   ]
  },
  {
   "cell_type": "markdown",
   "id": "91ce9fbe-0b16-4d26-ac95-b2dc16b84ee7",
   "metadata": {},
   "source": [
    "### Plotting Decision Region for Testing Dataset"
   ]
  },
  {
   "cell_type": "code",
   "execution_count": 214,
   "id": "2be7b89f-0ba9-4abf-b51f-79046497e9af",
   "metadata": {},
   "outputs": [
    {
     "data": {
      "image/png": "[encoded data removed]",
      "text/plain": [
       "<Figure size 640x480 with 1 Axes>"
      ]
     },
     "metadata": {},
     "output_type": "display_data"
    }
   ],
   "source": [
    "X_test_lda = lda.transform(X_test_std)\n",
    "plot_decision_regions(X_test_lda,y_test,classifier=lr)\n",
    "plt.xlabel(\"LD 1\")\n",
    "plt.ylabel(\"LD 2\")\n",
    "plt.legend(loc=\"best\")\n",
    "plt.tight_layout()\n",
    "plt.show()"
   ]
  }
 ],
 "metadata": {
  "kernelspec": {
   "display_name": "Python 3 (ipykernel)",
   "language": "python",
   "name": "python3"
  },
  "language_info": {
   "codemirror_mode": {
    "name": "ipython",
    "version": 3
   },
   "file_extension": ".py",
   "mimetype": "text/x-python",
   "name": "python",
   "nbconvert_exporter": "python",
   "pygments_lexer": "ipython3",
   "version": "3.11.7"
  }
 },
 "nbformat": 4,
 "nbformat_minor": 5
}
